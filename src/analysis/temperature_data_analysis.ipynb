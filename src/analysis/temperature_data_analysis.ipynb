{
 "cells": [
  {
   "cell_type": "code",
   "execution_count": 11,
   "metadata": {
    "collapsed": true
   },
   "outputs": [],
   "source": [
    "import pandas as pd\n",
    "import xarray\n",
    "from config import temperature_data_path\n",
    "\n",
    "temperature_data = xarray.load_dataset(str(temperature_data_path))\n",
    "\n",
    "\n",
    "def get_data_at_loc(data, lat, lon, data_name):\n",
    "    select1 = data[data[\"lat\"] == lat]\n",
    "    select2 = select1[select1[\"lon\"] == lon]\n",
    "    series = pd.Series(select2.index.values, index=select2[data_name])\n",
    "    series = pd.Series(series.index.values, index=series, name=data_name)\n",
    "    return series"
   ]
  },
  {
   "cell_type": "code",
   "execution_count": 12,
   "outputs": [],
   "source": [
    "temperature_data = temperature_data.to_dataframe().reset_index().set_index(\"time\")\n",
    "temperature_data = temperature_data[temperature_data['LST_Day_1km'].notnull()]"
   ],
   "metadata": {
    "collapsed": false
   }
  },
  {
   "cell_type": "code",
   "execution_count": 13,
   "outputs": [],
   "source": [
    "\n",
    "temperature_data.index =pd.to_datetime(temperature_data.index.astype(str))\n"
   ],
   "metadata": {
    "collapsed": false
   }
  },
  {
   "cell_type": "code",
   "execution_count": 19,
   "outputs": [
    {
     "name": "stderr",
     "output_type": "stream",
     "text": [
      "C:\\Users\\appad\\AppData\\Local\\Temp\\ipykernel_241424\\3700352503.py:1: FutureWarning: reindexing with a non-unique Index is deprecated and will raise in a future version.\n",
      "  resampled= temperature_data.resample('30T').interpolate()\n"
     ]
    },
    {
     "ename": "ValueError",
     "evalue": "cannot reindex on an axis with duplicate labels",
     "output_type": "error",
     "traceback": [
      "\u001B[1;31m---------------------------------------------------------------------------\u001B[0m",
      "\u001B[1;31mValueError\u001B[0m                                Traceback (most recent call last)",
      "Input \u001B[1;32mIn [19]\u001B[0m, in \u001B[0;36m<cell line: 1>\u001B[1;34m()\u001B[0m\n\u001B[1;32m----> 1\u001B[0m resampled\u001B[38;5;241m=\u001B[39m \u001B[43mtemperature_data\u001B[49m\u001B[38;5;241;43m.\u001B[39;49m\u001B[43mresample\u001B[49m\u001B[43m(\u001B[49m\u001B[38;5;124;43m'\u001B[39;49m\u001B[38;5;124;43m30T\u001B[39;49m\u001B[38;5;124;43m'\u001B[39;49m\u001B[43m)\u001B[49m\u001B[38;5;241;43m.\u001B[39;49m\u001B[43minterpolate\u001B[49m\u001B[43m(\u001B[49m\u001B[43m)\u001B[49m\n",
      "File \u001B[1;32m~\\anaconda3\\envs\\mauritius-solar-pannel-placement-analysis\\lib\\site-packages\\pandas\\util\\_decorators.py:311\u001B[0m, in \u001B[0;36mdeprecate_nonkeyword_arguments.<locals>.decorate.<locals>.wrapper\u001B[1;34m(*args, **kwargs)\u001B[0m\n\u001B[0;32m    305\u001B[0m \u001B[38;5;28;01mif\u001B[39;00m \u001B[38;5;28mlen\u001B[39m(args) \u001B[38;5;241m>\u001B[39m num_allow_args:\n\u001B[0;32m    306\u001B[0m     warnings\u001B[38;5;241m.\u001B[39mwarn(\n\u001B[0;32m    307\u001B[0m         msg\u001B[38;5;241m.\u001B[39mformat(arguments\u001B[38;5;241m=\u001B[39marguments),\n\u001B[0;32m    308\u001B[0m         \u001B[38;5;167;01mFutureWarning\u001B[39;00m,\n\u001B[0;32m    309\u001B[0m         stacklevel\u001B[38;5;241m=\u001B[39mstacklevel,\n\u001B[0;32m    310\u001B[0m     )\n\u001B[1;32m--> 311\u001B[0m \u001B[38;5;28;01mreturn\u001B[39;00m func(\u001B[38;5;241m*\u001B[39margs, \u001B[38;5;241m*\u001B[39m\u001B[38;5;241m*\u001B[39mkwargs)\n",
      "File \u001B[1;32m~\\anaconda3\\envs\\mauritius-solar-pannel-placement-analysis\\lib\\site-packages\\pandas\\core\\resample.py:894\u001B[0m, in \u001B[0;36mResampler.interpolate\u001B[1;34m(self, method, axis, limit, inplace, limit_direction, limit_area, downcast, **kwargs)\u001B[0m\n\u001B[0;32m    878\u001B[0m \u001B[38;5;129m@deprecate_nonkeyword_arguments\u001B[39m(version\u001B[38;5;241m=\u001B[39m\u001B[38;5;28;01mNone\u001B[39;00m, allowed_args\u001B[38;5;241m=\u001B[39m[\u001B[38;5;124m\"\u001B[39m\u001B[38;5;124mself\u001B[39m\u001B[38;5;124m\"\u001B[39m, \u001B[38;5;124m\"\u001B[39m\u001B[38;5;124mmethod\u001B[39m\u001B[38;5;124m\"\u001B[39m])\n\u001B[0;32m    879\u001B[0m \u001B[38;5;129m@doc\u001B[39m(NDFrame\u001B[38;5;241m.\u001B[39minterpolate, \u001B[38;5;241m*\u001B[39m\u001B[38;5;241m*\u001B[39m_shared_docs_kwargs)\n\u001B[0;32m    880\u001B[0m \u001B[38;5;28;01mdef\u001B[39;00m \u001B[38;5;21minterpolate\u001B[39m(\n\u001B[1;32m   (...)\u001B[0m\n\u001B[0;32m    889\u001B[0m     \u001B[38;5;241m*\u001B[39m\u001B[38;5;241m*\u001B[39mkwargs,\n\u001B[0;32m    890\u001B[0m ):\n\u001B[0;32m    891\u001B[0m     \u001B[38;5;124;03m\"\"\"\u001B[39;00m\n\u001B[0;32m    892\u001B[0m \u001B[38;5;124;03m    Interpolate values according to different methods.\u001B[39;00m\n\u001B[0;32m    893\u001B[0m \u001B[38;5;124;03m    \"\"\"\u001B[39;00m\n\u001B[1;32m--> 894\u001B[0m     result \u001B[38;5;241m=\u001B[39m \u001B[38;5;28;43mself\u001B[39;49m\u001B[38;5;241;43m.\u001B[39;49m\u001B[43m_upsample\u001B[49m\u001B[43m(\u001B[49m\u001B[38;5;124;43m\"\u001B[39;49m\u001B[38;5;124;43masfreq\u001B[39;49m\u001B[38;5;124;43m\"\u001B[39;49m\u001B[43m)\u001B[49m\n\u001B[0;32m    895\u001B[0m     \u001B[38;5;28;01mreturn\u001B[39;00m result\u001B[38;5;241m.\u001B[39minterpolate(\n\u001B[0;32m    896\u001B[0m         method\u001B[38;5;241m=\u001B[39mmethod,\n\u001B[0;32m    897\u001B[0m         axis\u001B[38;5;241m=\u001B[39maxis,\n\u001B[1;32m   (...)\u001B[0m\n\u001B[0;32m    903\u001B[0m         \u001B[38;5;241m*\u001B[39m\u001B[38;5;241m*\u001B[39mkwargs,\n\u001B[0;32m    904\u001B[0m     )\n",
      "File \u001B[1;32m~\\anaconda3\\envs\\mauritius-solar-pannel-placement-analysis\\lib\\site-packages\\pandas\\core\\resample.py:1246\u001B[0m, in \u001B[0;36mDatetimeIndexResampler._upsample\u001B[1;34m(self, method, limit, fill_value)\u001B[0m\n\u001B[0;32m   1244\u001B[0m     result\u001B[38;5;241m.\u001B[39mindex \u001B[38;5;241m=\u001B[39m res_index\n\u001B[0;32m   1245\u001B[0m \u001B[38;5;28;01melse\u001B[39;00m:\n\u001B[1;32m-> 1246\u001B[0m     result \u001B[38;5;241m=\u001B[39m \u001B[43mobj\u001B[49m\u001B[38;5;241;43m.\u001B[39;49m\u001B[43mreindex\u001B[49m\u001B[43m(\u001B[49m\n\u001B[0;32m   1247\u001B[0m \u001B[43m        \u001B[49m\u001B[43mres_index\u001B[49m\u001B[43m,\u001B[49m\u001B[43m \u001B[49m\u001B[43mmethod\u001B[49m\u001B[38;5;241;43m=\u001B[39;49m\u001B[43mmethod\u001B[49m\u001B[43m,\u001B[49m\u001B[43m \u001B[49m\u001B[43mlimit\u001B[49m\u001B[38;5;241;43m=\u001B[39;49m\u001B[43mlimit\u001B[49m\u001B[43m,\u001B[49m\u001B[43m \u001B[49m\u001B[43mfill_value\u001B[49m\u001B[38;5;241;43m=\u001B[39;49m\u001B[43mfill_value\u001B[49m\n\u001B[0;32m   1248\u001B[0m \u001B[43m    \u001B[49m\u001B[43m)\u001B[49m\n\u001B[0;32m   1250\u001B[0m result \u001B[38;5;241m=\u001B[39m \u001B[38;5;28mself\u001B[39m\u001B[38;5;241m.\u001B[39m_apply_loffset(result)\n\u001B[0;32m   1251\u001B[0m \u001B[38;5;28;01mreturn\u001B[39;00m \u001B[38;5;28mself\u001B[39m\u001B[38;5;241m.\u001B[39m_wrap_result(result)\n",
      "File \u001B[1;32m~\\anaconda3\\envs\\mauritius-solar-pannel-placement-analysis\\lib\\site-packages\\pandas\\util\\_decorators.py:324\u001B[0m, in \u001B[0;36mrewrite_axis_style_signature.<locals>.decorate.<locals>.wrapper\u001B[1;34m(*args, **kwargs)\u001B[0m\n\u001B[0;32m    322\u001B[0m \u001B[38;5;129m@wraps\u001B[39m(func)\n\u001B[0;32m    323\u001B[0m \u001B[38;5;28;01mdef\u001B[39;00m \u001B[38;5;21mwrapper\u001B[39m(\u001B[38;5;241m*\u001B[39margs, \u001B[38;5;241m*\u001B[39m\u001B[38;5;241m*\u001B[39mkwargs) \u001B[38;5;241m-\u001B[39m\u001B[38;5;241m>\u001B[39m Callable[\u001B[38;5;241m.\u001B[39m\u001B[38;5;241m.\u001B[39m\u001B[38;5;241m.\u001B[39m, Any]:\n\u001B[1;32m--> 324\u001B[0m     \u001B[38;5;28;01mreturn\u001B[39;00m func(\u001B[38;5;241m*\u001B[39margs, \u001B[38;5;241m*\u001B[39m\u001B[38;5;241m*\u001B[39mkwargs)\n",
      "File \u001B[1;32m~\\anaconda3\\envs\\mauritius-solar-pannel-placement-analysis\\lib\\site-packages\\pandas\\core\\frame.py:4804\u001B[0m, in \u001B[0;36mDataFrame.reindex\u001B[1;34m(self, *args, **kwargs)\u001B[0m\n\u001B[0;32m   4802\u001B[0m kwargs\u001B[38;5;241m.\u001B[39mpop(\u001B[38;5;124m\"\u001B[39m\u001B[38;5;124maxis\u001B[39m\u001B[38;5;124m\"\u001B[39m, \u001B[38;5;28;01mNone\u001B[39;00m)\n\u001B[0;32m   4803\u001B[0m kwargs\u001B[38;5;241m.\u001B[39mpop(\u001B[38;5;124m\"\u001B[39m\u001B[38;5;124mlabels\u001B[39m\u001B[38;5;124m\"\u001B[39m, \u001B[38;5;28;01mNone\u001B[39;00m)\n\u001B[1;32m-> 4804\u001B[0m \u001B[38;5;28;01mreturn\u001B[39;00m \u001B[38;5;28msuper\u001B[39m()\u001B[38;5;241m.\u001B[39mreindex(\u001B[38;5;241m*\u001B[39m\u001B[38;5;241m*\u001B[39mkwargs)\n",
      "File \u001B[1;32m~\\anaconda3\\envs\\mauritius-solar-pannel-placement-analysis\\lib\\site-packages\\pandas\\core\\generic.py:4966\u001B[0m, in \u001B[0;36mNDFrame.reindex\u001B[1;34m(self, *args, **kwargs)\u001B[0m\n\u001B[0;32m   4963\u001B[0m     \u001B[38;5;28;01mreturn\u001B[39;00m \u001B[38;5;28mself\u001B[39m\u001B[38;5;241m.\u001B[39m_reindex_multi(axes, copy, fill_value)\n\u001B[0;32m   4965\u001B[0m \u001B[38;5;66;03m# perform the reindex on the axes\u001B[39;00m\n\u001B[1;32m-> 4966\u001B[0m \u001B[38;5;28;01mreturn\u001B[39;00m \u001B[38;5;28;43mself\u001B[39;49m\u001B[38;5;241;43m.\u001B[39;49m\u001B[43m_reindex_axes\u001B[49m\u001B[43m(\u001B[49m\n\u001B[0;32m   4967\u001B[0m \u001B[43m    \u001B[49m\u001B[43maxes\u001B[49m\u001B[43m,\u001B[49m\u001B[43m \u001B[49m\u001B[43mlevel\u001B[49m\u001B[43m,\u001B[49m\u001B[43m \u001B[49m\u001B[43mlimit\u001B[49m\u001B[43m,\u001B[49m\u001B[43m \u001B[49m\u001B[43mtolerance\u001B[49m\u001B[43m,\u001B[49m\u001B[43m \u001B[49m\u001B[43mmethod\u001B[49m\u001B[43m,\u001B[49m\u001B[43m \u001B[49m\u001B[43mfill_value\u001B[49m\u001B[43m,\u001B[49m\u001B[43m \u001B[49m\u001B[43mcopy\u001B[49m\n\u001B[0;32m   4968\u001B[0m \u001B[43m\u001B[49m\u001B[43m)\u001B[49m\u001B[38;5;241m.\u001B[39m__finalize__(\u001B[38;5;28mself\u001B[39m, method\u001B[38;5;241m=\u001B[39m\u001B[38;5;124m\"\u001B[39m\u001B[38;5;124mreindex\u001B[39m\u001B[38;5;124m\"\u001B[39m)\n",
      "File \u001B[1;32m~\\anaconda3\\envs\\mauritius-solar-pannel-placement-analysis\\lib\\site-packages\\pandas\\core\\frame.py:4623\u001B[0m, in \u001B[0;36mDataFrame._reindex_axes\u001B[1;34m(self, axes, level, limit, tolerance, method, fill_value, copy)\u001B[0m\n\u001B[0;32m   4621\u001B[0m index \u001B[38;5;241m=\u001B[39m axes[\u001B[38;5;124m\"\u001B[39m\u001B[38;5;124mindex\u001B[39m\u001B[38;5;124m\"\u001B[39m]\n\u001B[0;32m   4622\u001B[0m \u001B[38;5;28;01mif\u001B[39;00m index \u001B[38;5;129;01mis\u001B[39;00m \u001B[38;5;129;01mnot\u001B[39;00m \u001B[38;5;28;01mNone\u001B[39;00m:\n\u001B[1;32m-> 4623\u001B[0m     frame \u001B[38;5;241m=\u001B[39m \u001B[43mframe\u001B[49m\u001B[38;5;241;43m.\u001B[39;49m\u001B[43m_reindex_index\u001B[49m\u001B[43m(\u001B[49m\n\u001B[0;32m   4624\u001B[0m \u001B[43m        \u001B[49m\u001B[43mindex\u001B[49m\u001B[43m,\u001B[49m\u001B[43m \u001B[49m\u001B[43mmethod\u001B[49m\u001B[43m,\u001B[49m\u001B[43m \u001B[49m\u001B[43mcopy\u001B[49m\u001B[43m,\u001B[49m\u001B[43m \u001B[49m\u001B[43mlevel\u001B[49m\u001B[43m,\u001B[49m\u001B[43m \u001B[49m\u001B[43mfill_value\u001B[49m\u001B[43m,\u001B[49m\u001B[43m \u001B[49m\u001B[43mlimit\u001B[49m\u001B[43m,\u001B[49m\u001B[43m \u001B[49m\u001B[43mtolerance\u001B[49m\n\u001B[0;32m   4625\u001B[0m \u001B[43m    \u001B[49m\u001B[43m)\u001B[49m\n\u001B[0;32m   4627\u001B[0m \u001B[38;5;28;01mreturn\u001B[39;00m frame\n",
      "File \u001B[1;32m~\\anaconda3\\envs\\mauritius-solar-pannel-placement-analysis\\lib\\site-packages\\pandas\\core\\frame.py:4642\u001B[0m, in \u001B[0;36mDataFrame._reindex_index\u001B[1;34m(self, new_index, method, copy, level, fill_value, limit, tolerance)\u001B[0m\n\u001B[0;32m   4629\u001B[0m \u001B[38;5;28;01mdef\u001B[39;00m \u001B[38;5;21m_reindex_index\u001B[39m(\n\u001B[0;32m   4630\u001B[0m     \u001B[38;5;28mself\u001B[39m,\n\u001B[0;32m   4631\u001B[0m     new_index,\n\u001B[1;32m   (...)\u001B[0m\n\u001B[0;32m   4637\u001B[0m     tolerance\u001B[38;5;241m=\u001B[39m\u001B[38;5;28;01mNone\u001B[39;00m,\n\u001B[0;32m   4638\u001B[0m ):\n\u001B[0;32m   4639\u001B[0m     new_index, indexer \u001B[38;5;241m=\u001B[39m \u001B[38;5;28mself\u001B[39m\u001B[38;5;241m.\u001B[39mindex\u001B[38;5;241m.\u001B[39mreindex(\n\u001B[0;32m   4640\u001B[0m         new_index, method\u001B[38;5;241m=\u001B[39mmethod, level\u001B[38;5;241m=\u001B[39mlevel, limit\u001B[38;5;241m=\u001B[39mlimit, tolerance\u001B[38;5;241m=\u001B[39mtolerance\n\u001B[0;32m   4641\u001B[0m     )\n\u001B[1;32m-> 4642\u001B[0m     \u001B[38;5;28;01mreturn\u001B[39;00m \u001B[38;5;28;43mself\u001B[39;49m\u001B[38;5;241;43m.\u001B[39;49m\u001B[43m_reindex_with_indexers\u001B[49m\u001B[43m(\u001B[49m\n\u001B[0;32m   4643\u001B[0m \u001B[43m        \u001B[49m\u001B[43m{\u001B[49m\u001B[38;5;241;43m0\u001B[39;49m\u001B[43m:\u001B[49m\u001B[43m \u001B[49m\u001B[43m[\u001B[49m\u001B[43mnew_index\u001B[49m\u001B[43m,\u001B[49m\u001B[43m \u001B[49m\u001B[43mindexer\u001B[49m\u001B[43m]\u001B[49m\u001B[43m}\u001B[49m\u001B[43m,\u001B[49m\n\u001B[0;32m   4644\u001B[0m \u001B[43m        \u001B[49m\u001B[43mcopy\u001B[49m\u001B[38;5;241;43m=\u001B[39;49m\u001B[43mcopy\u001B[49m\u001B[43m,\u001B[49m\n\u001B[0;32m   4645\u001B[0m \u001B[43m        \u001B[49m\u001B[43mfill_value\u001B[49m\u001B[38;5;241;43m=\u001B[39;49m\u001B[43mfill_value\u001B[49m\u001B[43m,\u001B[49m\n\u001B[0;32m   4646\u001B[0m \u001B[43m        \u001B[49m\u001B[43mallow_dups\u001B[49m\u001B[38;5;241;43m=\u001B[39;49m\u001B[38;5;28;43;01mFalse\u001B[39;49;00m\u001B[43m,\u001B[49m\n\u001B[0;32m   4647\u001B[0m \u001B[43m    \u001B[49m\u001B[43m)\u001B[49m\n",
      "File \u001B[1;32m~\\anaconda3\\envs\\mauritius-solar-pannel-placement-analysis\\lib\\site-packages\\pandas\\core\\generic.py:5032\u001B[0m, in \u001B[0;36mNDFrame._reindex_with_indexers\u001B[1;34m(self, reindexers, fill_value, copy, allow_dups)\u001B[0m\n\u001B[0;32m   5029\u001B[0m     indexer \u001B[38;5;241m=\u001B[39m ensure_platform_int(indexer)\n\u001B[0;32m   5031\u001B[0m \u001B[38;5;66;03m# TODO: speed up on homogeneous DataFrame objects (see _reindex_multi)\u001B[39;00m\n\u001B[1;32m-> 5032\u001B[0m new_data \u001B[38;5;241m=\u001B[39m \u001B[43mnew_data\u001B[49m\u001B[38;5;241;43m.\u001B[39;49m\u001B[43mreindex_indexer\u001B[49m\u001B[43m(\u001B[49m\n\u001B[0;32m   5033\u001B[0m \u001B[43m    \u001B[49m\u001B[43mindex\u001B[49m\u001B[43m,\u001B[49m\n\u001B[0;32m   5034\u001B[0m \u001B[43m    \u001B[49m\u001B[43mindexer\u001B[49m\u001B[43m,\u001B[49m\n\u001B[0;32m   5035\u001B[0m \u001B[43m    \u001B[49m\u001B[43maxis\u001B[49m\u001B[38;5;241;43m=\u001B[39;49m\u001B[43mbaxis\u001B[49m\u001B[43m,\u001B[49m\n\u001B[0;32m   5036\u001B[0m \u001B[43m    \u001B[49m\u001B[43mfill_value\u001B[49m\u001B[38;5;241;43m=\u001B[39;49m\u001B[43mfill_value\u001B[49m\u001B[43m,\u001B[49m\n\u001B[0;32m   5037\u001B[0m \u001B[43m    \u001B[49m\u001B[43mallow_dups\u001B[49m\u001B[38;5;241;43m=\u001B[39;49m\u001B[43mallow_dups\u001B[49m\u001B[43m,\u001B[49m\n\u001B[0;32m   5038\u001B[0m \u001B[43m    \u001B[49m\u001B[43mcopy\u001B[49m\u001B[38;5;241;43m=\u001B[39;49m\u001B[43mcopy\u001B[49m\u001B[43m,\u001B[49m\n\u001B[0;32m   5039\u001B[0m \u001B[43m\u001B[49m\u001B[43m)\u001B[49m\n\u001B[0;32m   5040\u001B[0m \u001B[38;5;66;03m# If we've made a copy once, no need to make another one\u001B[39;00m\n\u001B[0;32m   5041\u001B[0m copy \u001B[38;5;241m=\u001B[39m \u001B[38;5;28;01mFalse\u001B[39;00m\n",
      "File \u001B[1;32m~\\anaconda3\\envs\\mauritius-solar-pannel-placement-analysis\\lib\\site-packages\\pandas\\core\\internals\\managers.py:679\u001B[0m, in \u001B[0;36mBaseBlockManager.reindex_indexer\u001B[1;34m(self, new_axis, indexer, axis, fill_value, allow_dups, copy, consolidate, only_slice, use_na_proxy)\u001B[0m\n\u001B[0;32m    677\u001B[0m \u001B[38;5;66;03m# some axes don't allow reindexing with dups\u001B[39;00m\n\u001B[0;32m    678\u001B[0m \u001B[38;5;28;01mif\u001B[39;00m \u001B[38;5;129;01mnot\u001B[39;00m allow_dups:\n\u001B[1;32m--> 679\u001B[0m     \u001B[38;5;28;43mself\u001B[39;49m\u001B[38;5;241;43m.\u001B[39;49m\u001B[43maxes\u001B[49m\u001B[43m[\u001B[49m\u001B[43maxis\u001B[49m\u001B[43m]\u001B[49m\u001B[38;5;241;43m.\u001B[39;49m\u001B[43m_validate_can_reindex\u001B[49m\u001B[43m(\u001B[49m\u001B[43mindexer\u001B[49m\u001B[43m)\u001B[49m\n\u001B[0;32m    681\u001B[0m \u001B[38;5;28;01mif\u001B[39;00m axis \u001B[38;5;241m>\u001B[39m\u001B[38;5;241m=\u001B[39m \u001B[38;5;28mself\u001B[39m\u001B[38;5;241m.\u001B[39mndim:\n\u001B[0;32m    682\u001B[0m     \u001B[38;5;28;01mraise\u001B[39;00m \u001B[38;5;167;01mIndexError\u001B[39;00m(\u001B[38;5;124m\"\u001B[39m\u001B[38;5;124mRequested axis not found in manager\u001B[39m\u001B[38;5;124m\"\u001B[39m)\n",
      "File \u001B[1;32m~\\anaconda3\\envs\\mauritius-solar-pannel-placement-analysis\\lib\\site-packages\\pandas\\core\\indexes\\base.py:4107\u001B[0m, in \u001B[0;36mIndex._validate_can_reindex\u001B[1;34m(self, indexer)\u001B[0m\n\u001B[0;32m   4105\u001B[0m \u001B[38;5;66;03m# trying to reindex on an axis with duplicates\u001B[39;00m\n\u001B[0;32m   4106\u001B[0m \u001B[38;5;28;01mif\u001B[39;00m \u001B[38;5;129;01mnot\u001B[39;00m \u001B[38;5;28mself\u001B[39m\u001B[38;5;241m.\u001B[39m_index_as_unique \u001B[38;5;129;01mand\u001B[39;00m \u001B[38;5;28mlen\u001B[39m(indexer):\n\u001B[1;32m-> 4107\u001B[0m     \u001B[38;5;28;01mraise\u001B[39;00m \u001B[38;5;167;01mValueError\u001B[39;00m(\u001B[38;5;124m\"\u001B[39m\u001B[38;5;124mcannot reindex on an axis with duplicate labels\u001B[39m\u001B[38;5;124m\"\u001B[39m)\n",
      "\u001B[1;31mValueError\u001B[0m: cannot reindex on an axis with duplicate labels"
     ]
    }
   ],
   "source": [],
   "metadata": {
    "collapsed": false
   }
  },
  {
   "cell_type": "code",
   "execution_count": 17,
   "outputs": [
    {
     "data": {
      "text/plain": "                           lat        lon    crs  Clear_day_cov  \\\ntime                                                              \n2019-01-01 00:00:00 -20.262160  57.626421 -127.0       0.569784   \n2019-01-01 00:30:00 -20.262326  57.625137 -127.0       0.578904   \n2019-01-01 01:00:00 -20.262493  57.623853 -127.0       0.588023   \n2019-01-01 01:30:00 -20.262660  57.622569 -127.0       0.597143   \n2019-01-01 02:00:00 -20.262826  57.621285 -127.0       0.606263   \n...                        ...        ...    ...            ...   \n2019-12-27 22:00:00 -20.364908  57.583115 -127.0       0.587655   \n2019-12-27 22:30:00 -20.367977  57.585572 -127.0       0.583006   \n2019-12-27 23:00:00 -20.371045  57.588029 -127.0       0.578356   \n2019-12-27 23:30:00 -20.374114  57.590485 -127.0       0.573707   \n2019-12-28 00:00:00 -20.377183  57.592942 -127.0       0.569058   \n\n                     Clear_night_cov  Day_view_angl  Day_view_time   Emis_31  \\\ntime                                                                           \n2019-01-01 00:00:00              NaN     -15.947522      10.200000  0.984286   \n2019-01-01 00:30:00              NaN     -14.413175      10.214583  0.984267   \n2019-01-01 01:00:00              NaN     -12.878827      10.229166  0.984247   \n2019-01-01 01:30:00              NaN     -11.344480      10.243750  0.984228   \n2019-01-01 02:00:00              NaN      -9.810132      10.258333  0.984209   \n...                              ...            ...            ...       ...   \n2019-12-27 22:00:00         0.573531     -20.983963      10.175000  0.983837   \n2019-12-27 22:30:00         0.573531     -22.877428      10.156250  0.983874   \n2019-12-27 23:00:00         0.573531     -24.770893      10.137501  0.983912   \n2019-12-27 23:30:00         0.573531     -26.664358      10.118751  0.983949   \n2019-12-28 00:00:00         0.573531     -28.557823      10.100000  0.983986   \n\n                      Emis_32  LST_Day_1km  LST_Night_1km  Night_view_angl  \\\ntime                                                                         \n2019-01-01 00:00:00  0.986006   299.351720            NaN              NaN   \n2019-01-01 00:30:00  0.985987   299.328406            NaN              NaN   \n2019-01-01 01:00:00  0.985969   299.305092            NaN              NaN   \n2019-01-01 01:30:00  0.985951   299.281778            NaN              NaN   \n2019-01-01 02:00:00  0.985932   299.258464            NaN              NaN   \n...                       ...          ...            ...              ...   \n2019-12-27 22:00:00  0.985759   301.043976      289.30375            -6.75   \n2019-12-27 22:30:00  0.985806   301.161995      289.30375            -6.75   \n2019-12-27 23:00:00  0.985852   301.280015      289.30375            -6.75   \n2019-12-27 23:30:00  0.985899   301.398035      289.30375            -6.75   \n2019-12-28 00:00:00  0.985946   301.516054      289.30375            -6.75   \n\n                     Night_view_time     QC_Day  QC_Night  \ntime                                                       \n2019-01-01 00:00:00              NaN  65.000000  2.000000  \n2019-01-01 00:30:00              NaN  65.396721  2.237629  \n2019-01-01 01:00:00              NaN  65.793442  2.475259  \n2019-01-01 01:30:00              NaN  66.190170  2.712888  \n2019-01-01 02:00:00              NaN  66.586891  2.950517  \n...                              ...        ...       ...  \n2019-12-27 22:00:00        22.700001  66.468597  2.000000  \n2019-12-27 22:30:00        22.700001  66.101448  2.000000  \n2019-12-27 23:00:00        22.700001  65.734299  2.000000  \n2019-12-27 23:30:00        22.700001  65.367149  2.000000  \n2019-12-28 00:00:00        22.700001  65.000000  2.000000  \n\n[17329 rows x 15 columns]",
      "text/html": "<div>\n<style scoped>\n    .dataframe tbody tr th:only-of-type {\n        vertical-align: middle;\n    }\n\n    .dataframe tbody tr th {\n        vertical-align: top;\n    }\n\n    .dataframe thead th {\n        text-align: right;\n    }\n</style>\n<table border=\"1\" class=\"dataframe\">\n  <thead>\n    <tr style=\"text-align: right;\">\n      <th></th>\n      <th>lat</th>\n      <th>lon</th>\n      <th>crs</th>\n      <th>Clear_day_cov</th>\n      <th>Clear_night_cov</th>\n      <th>Day_view_angl</th>\n      <th>Day_view_time</th>\n      <th>Emis_31</th>\n      <th>Emis_32</th>\n      <th>LST_Day_1km</th>\n      <th>LST_Night_1km</th>\n      <th>Night_view_angl</th>\n      <th>Night_view_time</th>\n      <th>QC_Day</th>\n      <th>QC_Night</th>\n    </tr>\n    <tr>\n      <th>time</th>\n      <th></th>\n      <th></th>\n      <th></th>\n      <th></th>\n      <th></th>\n      <th></th>\n      <th></th>\n      <th></th>\n      <th></th>\n      <th></th>\n      <th></th>\n      <th></th>\n      <th></th>\n      <th></th>\n      <th></th>\n    </tr>\n  </thead>\n  <tbody>\n    <tr>\n      <th>2019-01-01 00:00:00</th>\n      <td>-20.262160</td>\n      <td>57.626421</td>\n      <td>-127.0</td>\n      <td>0.569784</td>\n      <td>NaN</td>\n      <td>-15.947522</td>\n      <td>10.200000</td>\n      <td>0.984286</td>\n      <td>0.986006</td>\n      <td>299.351720</td>\n      <td>NaN</td>\n      <td>NaN</td>\n      <td>NaN</td>\n      <td>65.000000</td>\n      <td>2.000000</td>\n    </tr>\n    <tr>\n      <th>2019-01-01 00:30:00</th>\n      <td>-20.262326</td>\n      <td>57.625137</td>\n      <td>-127.0</td>\n      <td>0.578904</td>\n      <td>NaN</td>\n      <td>-14.413175</td>\n      <td>10.214583</td>\n      <td>0.984267</td>\n      <td>0.985987</td>\n      <td>299.328406</td>\n      <td>NaN</td>\n      <td>NaN</td>\n      <td>NaN</td>\n      <td>65.396721</td>\n      <td>2.237629</td>\n    </tr>\n    <tr>\n      <th>2019-01-01 01:00:00</th>\n      <td>-20.262493</td>\n      <td>57.623853</td>\n      <td>-127.0</td>\n      <td>0.588023</td>\n      <td>NaN</td>\n      <td>-12.878827</td>\n      <td>10.229166</td>\n      <td>0.984247</td>\n      <td>0.985969</td>\n      <td>299.305092</td>\n      <td>NaN</td>\n      <td>NaN</td>\n      <td>NaN</td>\n      <td>65.793442</td>\n      <td>2.475259</td>\n    </tr>\n    <tr>\n      <th>2019-01-01 01:30:00</th>\n      <td>-20.262660</td>\n      <td>57.622569</td>\n      <td>-127.0</td>\n      <td>0.597143</td>\n      <td>NaN</td>\n      <td>-11.344480</td>\n      <td>10.243750</td>\n      <td>0.984228</td>\n      <td>0.985951</td>\n      <td>299.281778</td>\n      <td>NaN</td>\n      <td>NaN</td>\n      <td>NaN</td>\n      <td>66.190170</td>\n      <td>2.712888</td>\n    </tr>\n    <tr>\n      <th>2019-01-01 02:00:00</th>\n      <td>-20.262826</td>\n      <td>57.621285</td>\n      <td>-127.0</td>\n      <td>0.606263</td>\n      <td>NaN</td>\n      <td>-9.810132</td>\n      <td>10.258333</td>\n      <td>0.984209</td>\n      <td>0.985932</td>\n      <td>299.258464</td>\n      <td>NaN</td>\n      <td>NaN</td>\n      <td>NaN</td>\n      <td>66.586891</td>\n      <td>2.950517</td>\n    </tr>\n    <tr>\n      <th>...</th>\n      <td>...</td>\n      <td>...</td>\n      <td>...</td>\n      <td>...</td>\n      <td>...</td>\n      <td>...</td>\n      <td>...</td>\n      <td>...</td>\n      <td>...</td>\n      <td>...</td>\n      <td>...</td>\n      <td>...</td>\n      <td>...</td>\n      <td>...</td>\n      <td>...</td>\n    </tr>\n    <tr>\n      <th>2019-12-27 22:00:00</th>\n      <td>-20.364908</td>\n      <td>57.583115</td>\n      <td>-127.0</td>\n      <td>0.587655</td>\n      <td>0.573531</td>\n      <td>-20.983963</td>\n      <td>10.175000</td>\n      <td>0.983837</td>\n      <td>0.985759</td>\n      <td>301.043976</td>\n      <td>289.30375</td>\n      <td>-6.75</td>\n      <td>22.700001</td>\n      <td>66.468597</td>\n      <td>2.000000</td>\n    </tr>\n    <tr>\n      <th>2019-12-27 22:30:00</th>\n      <td>-20.367977</td>\n      <td>57.585572</td>\n      <td>-127.0</td>\n      <td>0.583006</td>\n      <td>0.573531</td>\n      <td>-22.877428</td>\n      <td>10.156250</td>\n      <td>0.983874</td>\n      <td>0.985806</td>\n      <td>301.161995</td>\n      <td>289.30375</td>\n      <td>-6.75</td>\n      <td>22.700001</td>\n      <td>66.101448</td>\n      <td>2.000000</td>\n    </tr>\n    <tr>\n      <th>2019-12-27 23:00:00</th>\n      <td>-20.371045</td>\n      <td>57.588029</td>\n      <td>-127.0</td>\n      <td>0.578356</td>\n      <td>0.573531</td>\n      <td>-24.770893</td>\n      <td>10.137501</td>\n      <td>0.983912</td>\n      <td>0.985852</td>\n      <td>301.280015</td>\n      <td>289.30375</td>\n      <td>-6.75</td>\n      <td>22.700001</td>\n      <td>65.734299</td>\n      <td>2.000000</td>\n    </tr>\n    <tr>\n      <th>2019-12-27 23:30:00</th>\n      <td>-20.374114</td>\n      <td>57.590485</td>\n      <td>-127.0</td>\n      <td>0.573707</td>\n      <td>0.573531</td>\n      <td>-26.664358</td>\n      <td>10.118751</td>\n      <td>0.983949</td>\n      <td>0.985899</td>\n      <td>301.398035</td>\n      <td>289.30375</td>\n      <td>-6.75</td>\n      <td>22.700001</td>\n      <td>65.367149</td>\n      <td>2.000000</td>\n    </tr>\n    <tr>\n      <th>2019-12-28 00:00:00</th>\n      <td>-20.377183</td>\n      <td>57.592942</td>\n      <td>-127.0</td>\n      <td>0.569058</td>\n      <td>0.573531</td>\n      <td>-28.557823</td>\n      <td>10.100000</td>\n      <td>0.983986</td>\n      <td>0.985946</td>\n      <td>301.516054</td>\n      <td>289.30375</td>\n      <td>-6.75</td>\n      <td>22.700001</td>\n      <td>65.000000</td>\n      <td>2.000000</td>\n    </tr>\n  </tbody>\n</table>\n<p>17329 rows × 15 columns</p>\n</div>"
     },
     "execution_count": 17,
     "metadata": {},
     "output_type": "execute_result"
    }
   ],
   "source": [],
   "metadata": {
    "collapsed": false
   }
  },
  {
   "cell_type": "code",
   "execution_count": 21,
   "outputs": [],
   "source": [
    "select = get_data_at_loc(temperature_data, temperature_data['lat'].values[10], temperature_data['lon'].values[10], 'LST_Day_1km')\n"
   ],
   "metadata": {
    "collapsed": false
   }
  },
  {
   "cell_type": "code",
   "execution_count": 24,
   "outputs": [
    {
     "data": {
      "text/plain": "Timestamp('2019-12-20 00:00:00', freq='30T')"
     },
     "execution_count": 24,
     "metadata": {},
     "output_type": "execute_result"
    }
   ],
   "source": [
    "select.resample(\"30T\").mean().interpolate().index[-1]"
   ],
   "metadata": {
    "collapsed": false
   }
  }
 ],
 "metadata": {
  "kernelspec": {
   "display_name": "Python 3",
   "language": "python",
   "name": "python3"
  },
  "language_info": {
   "codemirror_mode": {
    "name": "ipython",
    "version": 2
   },
   "file_extension": ".py",
   "mimetype": "text/x-python",
   "name": "python",
   "nbconvert_exporter": "python",
   "pygments_lexer": "ipython2",
   "version": "2.7.6"
  }
 },
 "nbformat": 4,
 "nbformat_minor": 0
}
